{
 "cells": [
  {
   "cell_type": "markdown",
   "metadata": {},
   "source": [
    "# Research proposal \n",
    "\n",
    "\n",
    "## The problem of long tuberculosis therapy\n",
    "In 2016, tuberculosis (TB) killed worldwide 1.5 million humans and therefore it was the deathliest bacterial infection.\n",
    "Antibiotic treatment is available but lengthy and companied with severe side effects. The regular treatment for drug susceptible TB requires a 4 months course with the antibiotics INH, RIF, ETHA and PZA, followed by an additional 2 months of INH and RIF.\n",
    "\n",
    "TB incidence are specifically high in India, China, Russia and in most African countries. The severe side effects and local circumstances often lead to treatment failure. Local circumstances that threaten a successful treatment include among others, the absence of local health care, poorly equipped health care units and the economic need for patients to rejoin the workforce. All these factors contribute to poor patient compliance. That in turn leads to a breeding ground for resistant bacteria. In 2016, 500.000 deaths were caused by multi-drug resistant TB.\n",
    "\n",
    "The need for a shortened, more effective therapy with fewer side effects could be a key to stop the rise of multi-drug resistant TB, as it would help to reduce treatment abortion, reduce the need for frequent travel to health care stations and the reduction in side effects would benefit the economic situation of patient families.\n",
    "\n",
    "Joined forces of several labs have found a new drug called bedaquiline (BDQ). BDQ has been successfully tested in laboratory settings and infection models. The safety in healthy humans was proven. But it needs to be proven that BDQ can shorten the 6 months therapy significantly.\n",
    "\n",
    "In this research proposal, the experimental necessities, the data acquisition and the data evaluation process will be described.\n",
    "\n",
    "## Hypotheses\n",
    "The administration of BDQ in addition to INH, RIF, ETHA and PZA in the first four month of the therapy will lead to\n",
    "1.\ta faster conversion of the sputum sample from positive to negative.\n",
    "2.\ta faster decrease in bacterial load.\n",
    "3.\ta faster shrinkage of lung lesions measured by x-ray.\n",
    "4.\tfewer side effects and better general well-being of the patients.\n",
    "In comparison to the regular therapy of INH, RIF, ETHA and PZA (control treatment).\n",
    "\n",
    "## Rollout\n",
    "At least 100 patients need to complete the full 6 months of either control or treatment drug course. Those 100 patients will randomly receive the regular therapy (control group) or the regular therapy including BDQ (treatment group). The study will be conducted double blind, so that neither the patient nor the treating health care professional will know which treatment group a patient belongs to.\n",
    "The groups should include an equal number of male and female patients. Children younger than 15 and HIV positive TB patients, can not take part in the study as their immune status is different from adult HIV negative patients. Patients with a potential contact to MDR-TB will be excluded from the study, because they might require MDR-TB treatment. <br>\n",
    "#Data collection: <br>\n",
    "In general, all analyses have to be conduted following good laboratory partices and proper containment of samples.<br>\n",
    "Bacterial load determination:<br>\n",
    "Each participant declares that he or she is willing to bring fresh (not older than 24 h) lung sputum to the treating health care unit to determine bacterial load of the lung.  The sputum will be used to determine the bacterial load by culture. The timepoint within a 6 weeks culture when the machine detects bacterial growth will be an indicator for the bacterial load. The more bacteria in a sputum sample, the faster the machine will detect growth. The timepoint when the machine detects growth in a sputum sample, needs to be noted. <br>\n",
    "Sputum conversion determination:<br>\n",
    "If after 6 weeks of culture the culture still does not show any growth, a patient is considered healed. The timepoint of the sputum conversion from positive (shows growth with a time period of 6 weeks) to negative (does not show growth after 6 weeks of culture) needs to be noted.<br>\n",
    "Side effect monitoring:<br>\n",
    "Patients will be given a diary in which to make daily notes about symptoms, to track the development of side effects. They are specifically asked to look out for diarrhea, fewer, hearing loss and weakness (severe side effects).<br>\n",
    "Lesion size monitoring:<br>\n",
    "Further patients agree to have x-rays taken before therapy start, after 3 month of therapy and after completion of therapy, to track the development of lung lesions.<br>\n",
    "\n",
    "## Success of the experiment:\n",
    "BDQ will be considered as a treatment shortening agent, when:<br>\n",
    "\tBacterial counts decrease significantly faster and sputum conversion from positive to negative occurs earlier in the treatment group using a t-test with a p-value of 0.05.<br>\n",
    "\tLung lesion sizes are significantly smaller after 3 months and or 6 months using a t-test with a p-value of 0.05 in the treatment group.<br>\n",
    "\n",
    "BDQ will be considered as an agent with less side effect when:<br>\n",
    "\tFewer patients report severe side effects.<br>\n",
    "\tFewer patients classify the severity and duration of severe side effect lower."
   ]
  },
  {
   "cell_type": "code",
   "execution_count": null,
   "metadata": {
    "collapsed": true
   },
   "outputs": [],
   "source": []
  }
 ],
 "metadata": {
  "anaconda-cloud": {},
  "kernelspec": {
   "display_name": "Python 3",
   "language": "python",
   "name": "python3"
  },
  "language_info": {
   "codemirror_mode": {
    "name": "ipython",
    "version": 3
   },
   "file_extension": ".py",
   "mimetype": "text/x-python",
   "name": "python",
   "nbconvert_exporter": "python",
   "pygments_lexer": "ipython3",
   "version": "3.6.5"
  }
 },
 "nbformat": 4,
 "nbformat_minor": 1
}
