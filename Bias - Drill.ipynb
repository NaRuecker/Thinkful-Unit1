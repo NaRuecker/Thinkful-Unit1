{
 "cells": [
  {
   "cell_type": "markdown",
   "metadata": {},
   "source": [
    "# Experimental design - Drill\n",
    "## 1. You're testing advertising emails for a bathing suit company and you test one version of the email in February and the other in May.\n",
    "    \n",
    "Assuming this test was performed in an area were the climate is similar in February and May,\n",
    "this might work. \n",
    "But it would have been better to send to parallel emails at the same time to randomized people from\n",
    "the email list, because the difference in time could impact the customer response. Even if the weather is\n",
    "not an issue, cultural or political events might impact people responses at different times differently.\n",
    "    \n",
    "## 2. You open a clinic to treat anxiety and find that the people who visit show a higher rate of anxiety than the general population.\n",
    "That is very likely, because people who don't have anxiety have no reason to come to a clinic that treats\n",
    "anxiety.\n",
    "## 3. You launch a new ad billboard based campaign and see an increase in website visits in the first week.\n",
    "It is hard to identify if the increase in website visits is a result of the billboard campaign. \n",
    "To oberve the effect of the billboard ad, one could check if more website visits occured from people who live in an area with billboard ads, compared to people who live in an area without those ad.\n",
    "The increase of website visits could also be due to season or culturalpolitical events.\n",
    "\n",
    "## 4. You launch a loyalty program but see no change in visits in the first week.\n",
    "\n",
    "Assuming that no increase in the first week compares to the week prior to the campaign.\n",
    "It would be important to see, how customer visits behaved maybe in the same week a year ago. Maybe visitors decreased last year in the same week, then the loyality program helped to stabalize customer visits.\n",
    "\n"
   ]
  },
  {
   "cell_type": "code",
   "execution_count": null,
   "metadata": {
    "collapsed": true
   },
   "outputs": [],
   "source": []
  }
 ],
 "metadata": {
  "anaconda-cloud": {},
  "kernelspec": {
   "display_name": "Python 3",
   "language": "python",
   "name": "python3"
  },
  "language_info": {
   "codemirror_mode": {
    "name": "ipython",
    "version": 3
   },
   "file_extension": ".py",
   "mimetype": "text/x-python",
   "name": "python",
   "nbconvert_exporter": "python",
   "pygments_lexer": "ipython3",
   "version": "3.5.2"
  }
 },
 "nbformat": 4,
 "nbformat_minor": 1
}
