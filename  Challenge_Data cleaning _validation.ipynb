{
 "cells": [
  {
   "cell_type": "markdown",
   "metadata": {},
   "source": [
    "# Challenge: Data cleaning & validation\n",
    "\n",
    "Estimated Time: 2-3 hours\n",
    "\n",
    "Data cleaning is definitely a \"practice makes perfect\" skill. Using this dataset of article open-access prices paid by the WELLCOME Trust between 2012 and 2013\n",
    "1. determine the five most common journals and the total articles for each. \n",
    "2. calculate the mean, median, and standard deviation of the open-access cost per article for each journal. \n",
    "You will need to do considerable data cleaning in order to extract accurate estimates, and may want to look into data encoding methods if you get stuck. \n",
    "3. For a real bonus round, identify the open access prices paid by subject area.\n",
    "\n",
    "As noted in the previous assignment, don't modify the data directly. Instead, write a cleaning script that will load the raw data and whip it into shape. Jupyter notebooks are a great format for this. Keep a record of your decisions: well-commented code is a must for recording your data cleaning decision-making progress. Submit a link to your script and results below and discuss it with your mentor at your next session."
   ]
  },
  {
   "cell_type": "code",
   "execution_count": 1,
   "metadata": {
    "collapsed": true
   },
   "outputs": [],
   "source": [
    "import pandas as pd\n",
    "import numpy as np\n",
    "import seaborn as sns\n",
    "import matplotlib.pyplot as plt\n",
    "%matplotlib inline\n",
    "import re\n",
    "from collections import Counter"
   ]
  },
  {
   "cell_type": "code",
   "execution_count": 2,
   "metadata": {
    "collapsed": false
   },
   "outputs": [
    {
     "data": {
      "text/html": [
       "<div>\n",
       "<table border=\"1\" class=\"dataframe\">\n",
       "  <thead>\n",
       "    <tr style=\"text-align: right;\">\n",
       "      <th></th>\n",
       "      <th>PMID/PMCID</th>\n",
       "      <th>Publisher</th>\n",
       "      <th>Journal title</th>\n",
       "      <th>Article title</th>\n",
       "      <th>COST (£) charged to Wellcome (inc VAT when charged)</th>\n",
       "    </tr>\n",
       "  </thead>\n",
       "  <tbody>\n",
       "    <tr>\n",
       "      <th>0</th>\n",
       "      <td>PMC3378987\\n</td>\n",
       "      <td>Elsevier</td>\n",
       "      <td>Academy of Nutrition and Dietetics</td>\n",
       "      <td>Parent support and parent mediated behaviours ...</td>\n",
       "      <td>£2379.54</td>\n",
       "    </tr>\n",
       "    <tr>\n",
       "      <th>1</th>\n",
       "      <td>PMCID: PMC3780468</td>\n",
       "      <td>ACS (Amercian Chemical Society) Publications</td>\n",
       "      <td>ACS Chemical Biology</td>\n",
       "      <td>A Novel Allosteric Inhibitor of the Uridine Di...</td>\n",
       "      <td>£1294.59</td>\n",
       "    </tr>\n",
       "    <tr>\n",
       "      <th>2</th>\n",
       "      <td>PMCID: PMC3621575</td>\n",
       "      <td>ACS (Amercian Chemical Society) Publications</td>\n",
       "      <td>ACS Chemical Biology</td>\n",
       "      <td>Chemical proteomic analysis reveals the drugab...</td>\n",
       "      <td>£1294.78</td>\n",
       "    </tr>\n",
       "    <tr>\n",
       "      <th>3</th>\n",
       "      <td>PMID: 24015914 PMC3833349</td>\n",
       "      <td>American Chemical Society</td>\n",
       "      <td>ACS Chemical Biology</td>\n",
       "      <td>Discovery of an allosteric inhibitor binding s...</td>\n",
       "      <td>£1267.76</td>\n",
       "    </tr>\n",
       "    <tr>\n",
       "      <th>4</th>\n",
       "      <td>: PMC3805332</td>\n",
       "      <td>American Chemical Society</td>\n",
       "      <td>ACS Chemical Biology</td>\n",
       "      <td>Synthesis of alpha-glucan in mycobacteria invo...</td>\n",
       "      <td>£2286.73</td>\n",
       "    </tr>\n",
       "  </tbody>\n",
       "</table>\n",
       "</div>"
      ],
      "text/plain": [
       "                   PMID/PMCID                                     Publisher  \\\n",
       "0                PMC3378987\\n                                      Elsevier   \n",
       "1           PMCID: PMC3780468  ACS (Amercian Chemical Society) Publications   \n",
       "2           PMCID: PMC3621575  ACS (Amercian Chemical Society) Publications   \n",
       "3  PMID: 24015914 PMC3833349                      American Chemical Society   \n",
       "4               : PMC3805332                      American Chemical Society   \n",
       "\n",
       "                        Journal title  \\\n",
       "0  Academy of Nutrition and Dietetics   \n",
       "1                ACS Chemical Biology   \n",
       "2                ACS Chemical Biology   \n",
       "3                ACS Chemical Biology   \n",
       "4                ACS Chemical Biology   \n",
       "\n",
       "                                       Article title  \\\n",
       "0  Parent support and parent mediated behaviours ...   \n",
       "1  A Novel Allosteric Inhibitor of the Uridine Di...   \n",
       "2  Chemical proteomic analysis reveals the drugab...   \n",
       "3  Discovery of an allosteric inhibitor binding s...   \n",
       "4  Synthesis of alpha-glucan in mycobacteria invo...   \n",
       "\n",
       "  COST (£) charged to Wellcome (inc VAT when charged)  \n",
       "0                                           £2379.54   \n",
       "1                                           £1294.59   \n",
       "2                                           £1294.78   \n",
       "3                                           £1267.76   \n",
       "4                                           £2286.73   "
      ]
     },
     "execution_count": 2,
     "metadata": {},
     "output_type": "execute_result"
    }
   ],
   "source": [
    "df = pd.read_csv('WELLCOME_APCspend2013_forThinkful.csv', encoding=\"ISO-8859-1\")\n",
    "df.head()"
   ]
  },
  {
   "cell_type": "markdown",
   "metadata": {},
   "source": [
    "## 1. Determine the five most common journals and the total articles for each."
   ]
  },
  {
   "cell_type": "code",
   "execution_count": 3,
   "metadata": {
    "collapsed": false
   },
   "outputs": [
    {
     "name": "stderr",
     "output_type": "stream",
     "text": [
      "C:\\Users\\Ruecker-PC\\Anaconda3\\lib\\site-packages\\ipykernel\\__main__.py:12: SettingWithCopyWarning: \n",
      "A value is trying to be set on a copy of a slice from a DataFrame.\n",
      "Try using .loc[row_indexer,col_indexer] = value instead\n",
      "\n",
      "See the caveats in the documentation: http://pandas.pydata.org/pandas-docs/stable/indexing.html#indexing-view-versus-copy\n"
     ]
    },
    {
     "data": {
      "text/html": [
       "<div>\n",
       "<table border=\"1\" class=\"dataframe\">\n",
       "  <thead>\n",
       "    <tr style=\"text-align: right;\">\n",
       "      <th></th>\n",
       "      <th>Article title</th>\n",
       "    </tr>\n",
       "    <tr>\n",
       "      <th>Journal title</th>\n",
       "      <th></th>\n",
       "    </tr>\n",
       "  </thead>\n",
       "  <tbody>\n",
       "    <tr>\n",
       "      <th>plos one</th>\n",
       "      <td>190</td>\n",
       "    </tr>\n",
       "    <tr>\n",
       "      <th>journal of biological chemistry</th>\n",
       "      <td>53</td>\n",
       "    </tr>\n",
       "    <tr>\n",
       "      <th>neuroimage</th>\n",
       "      <td>29</td>\n",
       "    </tr>\n",
       "    <tr>\n",
       "      <th>nucleic acids research</th>\n",
       "      <td>26</td>\n",
       "    </tr>\n",
       "    <tr>\n",
       "      <th>plos genetics</th>\n",
       "      <td>24</td>\n",
       "    </tr>\n",
       "  </tbody>\n",
       "</table>\n",
       "</div>"
      ],
      "text/plain": [
       "                                 Article title\n",
       "Journal title                                 \n",
       "plos one                                   190\n",
       "journal of biological chemistry             53\n",
       "neuroimage                                  29\n",
       "nucleic acids research                      26\n",
       "plos genetics                               24"
      ]
     },
     "execution_count": 3,
     "metadata": {},
     "output_type": "execute_result"
    }
   ],
   "source": [
    "# Clean the Journal title column\n",
    "dfn = df[['Journal title', 'Article title']]\n",
    "\n",
    "def clean_title(x):\n",
    "    x=str(x).rstrip() #remove white space\n",
    "    x=str(x).lstrip() #remove white space\n",
    "    x=str(x).lower() #remove upper letter and capitalization\n",
    "    x=str(x).replace('&','and')# replace & with 'and'\n",
    "    x=str(x).replace('[^a-zA-Z]+', '') # remove special characters\n",
    "    return x\n",
    "\n",
    "dfn['Journal title'] = dfn['Journal title'].apply(clean_title)\n",
    "\n",
    "# calculate the occurence of each journal\n",
    "JournalCount = dfn.groupby('Journal title').count()\n",
    "JournalCount.nlargest(5, 'Article title')"
   ]
  },
  {
   "cell_type": "markdown",
   "metadata": {
    "collapsed": false
   },
   "source": [
    "## 2. Calculate the mean, median, and standard deviation of the open-access cost per article for each journal. You will need to do considerable data cleaning in order to extract accurate estimates, and may want to look into data encoding methods if you get stuck."
   ]
  },
  {
   "cell_type": "code",
   "execution_count": 10,
   "metadata": {
    "collapsed": false
   },
   "outputs": [
    {
     "name": "stdout",
     "output_type": "stream",
     "text": [
      "P75: 3110.5487\n",
      "Max before: 1339998.66\n",
      "Max after: 4663.2\n"
     ]
    },
    {
     "name": "stderr",
     "output_type": "stream",
     "text": [
      "C:\\Users\\Ruecker-PC\\Anaconda3\\lib\\site-packages\\ipykernel\\__main__.py:21: SettingWithCopyWarning: \n",
      "A value is trying to be set on a copy of a slice from a DataFrame.\n",
      "Try using .loc[row_indexer,col_indexer] = value instead\n",
      "\n",
      "See the caveats in the documentation: http://pandas.pydata.org/pandas-docs/stable/indexing.html#indexing-view-versus-copy\n"
     ]
    },
    {
     "data": {
      "text/html": [
       "<div>\n",
       "<table border=\"1\" class=\"dataframe\">\n",
       "  <thead>\n",
       "    <tr>\n",
       "      <th></th>\n",
       "      <th colspan=\"4\" halign=\"left\">CostinD</th>\n",
       "    </tr>\n",
       "    <tr>\n",
       "      <th></th>\n",
       "      <th>count</th>\n",
       "      <th>mean</th>\n",
       "      <th>median</th>\n",
       "      <th>std</th>\n",
       "    </tr>\n",
       "    <tr>\n",
       "      <th>Journal title</th>\n",
       "      <th></th>\n",
       "      <th></th>\n",
       "      <th></th>\n",
       "      <th></th>\n",
       "    </tr>\n",
       "  </thead>\n",
       "  <tbody>\n",
       "    <tr>\n",
       "      <th>academy of nutrition and dietetics</th>\n",
       "      <td>1</td>\n",
       "      <td>3188.58360</td>\n",
       "      <td>3188.5836</td>\n",
       "      <td>NaN</td>\n",
       "    </tr>\n",
       "    <tr>\n",
       "      <th>acs chemical biology</th>\n",
       "      <td>5</td>\n",
       "      <td>1900.36924</td>\n",
       "      <td>1734.7506</td>\n",
       "      <td>679.794810</td>\n",
       "    </tr>\n",
       "    <tr>\n",
       "      <th>acs chemical neuroscience</th>\n",
       "      <td>1</td>\n",
       "      <td>1590.31200</td>\n",
       "      <td>1590.3120</td>\n",
       "      <td>NaN</td>\n",
       "    </tr>\n",
       "    <tr>\n",
       "      <th>acs nano</th>\n",
       "      <td>2</td>\n",
       "      <td>895.30760</td>\n",
       "      <td>895.3076</td>\n",
       "      <td>47.849916</td>\n",
       "    </tr>\n",
       "    <tr>\n",
       "      <th>acta crystallographica section d,  biological crystallography</th>\n",
       "      <td>1</td>\n",
       "      <td>1033.70280</td>\n",
       "      <td>1033.7028</td>\n",
       "      <td>NaN</td>\n",
       "    </tr>\n",
       "  </tbody>\n",
       "</table>\n",
       "</div>"
      ],
      "text/plain": [
       "                                                   CostinD              \\\n",
       "                                                     count        mean   \n",
       "Journal title                                                            \n",
       "academy of nutrition and dietetics                       1  3188.58360   \n",
       "acs chemical biology                                     5  1900.36924   \n",
       "acs chemical neuroscience                                1  1590.31200   \n",
       "acs nano                                                 2   895.30760   \n",
       "acta crystallographica section d,  biological c...       1  1033.70280   \n",
       "\n",
       "                                                                           \n",
       "                                                       median         std  \n",
       "Journal title                                                              \n",
       "academy of nutrition and dietetics                  3188.5836         NaN  \n",
       "acs chemical biology                                1734.7506  679.794810  \n",
       "acs chemical neuroscience                           1590.3120         NaN  \n",
       "acs nano                                             895.3076   47.849916  \n",
       "acta crystallographica section d,  biological c...  1033.7028         NaN  "
      ]
     },
     "execution_count": 10,
     "metadata": {},
     "output_type": "execute_result"
    }
   ],
   "source": [
    "#Clean the Cost column\n",
    "df= df.rename(columns={ df.columns[4]: \"Cost_wC\" })\n",
    "df['Currency']= df.Cost_wC.str.replace('(\\d+(?:\\.\\d+)?)','').astype('category')\n",
    "df['Value']= df.Cost_wC.str.extract('(\\d+(?:\\.\\d+)?)',expand=False).astype(float)\n",
    "df['CostinD']= np.where(df['Currency']=='$',df['Value'] , df['Value']*1.34)\n",
    "\n",
    "#Journal Cost data frame\n",
    "\n",
    "#Remove outliers, \n",
    "#Assuming low publisjig cost are possible. Where as article cost above $9000 are ost likely typos\n",
    "P75 = np.percentile(df['CostinD'], 75)\n",
    "MedianCost = np.median(df['CostinD'])\n",
    "print('P75:', P75)\n",
    "print('Max before:', df['CostinD'].max())\n",
    "df['CostinD']= np.where(df['CostinD']>(P75*1.5), MedianCost , df['CostinD']) # Remove high outliers\n",
    "print('Max after:', df['CostinD'].max())\n",
    "\n",
    "# Clean Journal title\n",
    "JC = df[['Journal title','CostinD']]\n",
    "\n",
    "JC['Journal title'] = JC['Journal title'].apply(clean_title)\n",
    "\n",
    "Overview=JC.groupby('Journal title').agg(['count','mean', 'median','std'])\n",
    "Overview.head()"
   ]
  },
  {
   "cell_type": "markdown",
   "metadata": {},
   "source": [
    "## 3. For a real bonus round, identify the open access prices paid by subject area."
   ]
  },
  {
   "cell_type": "code",
   "execution_count": 11,
   "metadata": {
    "collapsed": false
   },
   "outputs": [
    {
     "name": "stderr",
     "output_type": "stream",
     "text": [
      "C:\\Users\\Ruecker-PC\\Anaconda3\\lib\\site-packages\\ipykernel\\__main__.py:5: SettingWithCopyWarning: \n",
      "A value is trying to be set on a copy of a slice from a DataFrame.\n",
      "Try using .loc[row_indexer,col_indexer] = value instead\n",
      "\n",
      "See the caveats in the documentation: http://pandas.pydata.org/pandas-docs/stable/indexing.html#indexing-view-versus-copy\n"
     ]
    }
   ],
   "source": [
    "# Define categories for Journals\n",
    "# extract all words from the Journal title\n",
    "df2 = df[['Journal title', 'Article title', 'CostinD']]\n",
    "# Have to clean the title differently to keep the spaces\n",
    "df2['Journal title'] = df2['Journal title'].apply(clean_title)\n",
    "\n",
    "Allword_list = df2['Journal title'].tolist()\n",
    "Allwords= ','.join(str(x) for x in Allword_list)\n",
    "Allwords = Allwords.replace(' ',',')\n",
    "SingleWordlist = Allwords.split(',')\n",
    "\n",
    "SingleWordCount=Counter(SingleWordlist)\n",
    "SWC_df = pd.DataFrame.from_dict(SingleWordCount, orient='index')\n",
    "SWC_df = SWC_df.rename(columns={SWC_df.columns[0]: \"WordCount\"})\n",
    "print(SWC_df)\n",
    "# choose the 10 most common words and make categories out of them\n",
    "# Classify Journal calculate stats"
   ]
  },
  {
   "cell_type": "code",
   "execution_count": 16,
   "metadata": {
    "collapsed": false
   },
   "outputs": [
    {
     "name": "stderr",
     "output_type": "stream",
     "text": [
      "C:\\Users\\Ruecker-PC\\Anaconda3\\lib\\site-packages\\ipykernel\\__main__.py:55: SettingWithCopyWarning: \n",
      "A value is trying to be set on a copy of a slice from a DataFrame.\n",
      "Try using .loc[row_indexer,col_indexer] = value instead\n",
      "\n",
      "See the caveats in the documentation: http://pandas.pydata.org/pandas-docs/stable/indexing.html#indexing-view-versus-copy\n"
     ]
    },
    {
     "data": {
      "text/html": [
       "<div>\n",
       "<table border=\"1\" class=\"dataframe\">\n",
       "  <thead>\n",
       "    <tr>\n",
       "      <th></th>\n",
       "      <th colspan=\"4\" halign=\"left\">CostinD</th>\n",
       "    </tr>\n",
       "    <tr>\n",
       "      <th></th>\n",
       "      <th>mean</th>\n",
       "      <th>median</th>\n",
       "      <th>std</th>\n",
       "      <th>count</th>\n",
       "    </tr>\n",
       "    <tr>\n",
       "      <th>Cat</th>\n",
       "      <th></th>\n",
       "      <th></th>\n",
       "      <th></th>\n",
       "      <th></th>\n",
       "    </tr>\n",
       "  </thead>\n",
       "  <tbody>\n",
       "    <tr>\n",
       "      <th>Biology</th>\n",
       "      <td>2292.099707</td>\n",
       "      <td>2278.0000</td>\n",
       "      <td>750.196288</td>\n",
       "      <td>223</td>\n",
       "    </tr>\n",
       "    <tr>\n",
       "      <th>Brain</th>\n",
       "      <td>2683.120286</td>\n",
       "      <td>2733.6000</td>\n",
       "      <td>606.162880</td>\n",
       "      <td>35</td>\n",
       "    </tr>\n",
       "    <tr>\n",
       "      <th>Chemistry</th>\n",
       "      <td>2321.704430</td>\n",
       "      <td>2412.0000</td>\n",
       "      <td>738.725635</td>\n",
       "      <td>61</td>\n",
       "    </tr>\n",
       "    <tr>\n",
       "      <th>Clinical</th>\n",
       "      <td>2792.597259</td>\n",
       "      <td>2980.8568</td>\n",
       "      <td>544.568729</td>\n",
       "      <td>41</td>\n",
       "    </tr>\n",
       "    <tr>\n",
       "      <th>Disease</th>\n",
       "      <td>2517.358244</td>\n",
       "      <td>2428.4954</td>\n",
       "      <td>625.165881</td>\n",
       "      <td>54</td>\n",
       "    </tr>\n",
       "  </tbody>\n",
       "</table>\n",
       "</div>"
      ],
      "text/plain": [
       "               CostinD                             \n",
       "                  mean     median         std count\n",
       "Cat                                                \n",
       "Biology    2292.099707  2278.0000  750.196288   223\n",
       "Brain      2683.120286  2733.6000  606.162880    35\n",
       "Chemistry  2321.704430  2412.0000  738.725635    61\n",
       "Clinical   2792.597259  2980.8568  544.568729    41\n",
       "Disease    2517.358244  2428.4954  625.165881    54"
      ]
     },
     "execution_count": 16,
     "metadata": {},
     "output_type": "execute_result"
    }
   ],
   "source": [
    "# categories\n",
    "Bio = ['biology', 'biological']\n",
    "Chem = ['chemistry', 'chemical']\n",
    "Genetics = ['genetics']\n",
    "Med = ['medicine']\n",
    "Neuro = ['neuroscience', 'neuro']\n",
    "Health = ['health']\n",
    "Human = ['human']\n",
    "Clinical = ['clinical']\n",
    "Disease = ['disease']\n",
    "Brain = ['brain']\n",
    "Tropical = ['tropical']\n",
    "Immun = ['immunology']\n",
    "Micro = ['microbiology']\n",
    "Viro = ['virology']\n",
    "Endocrinology =['endocrinology']\n",
    "Epidemiology = ['epidemiology']\n",
    "\n",
    "def check_categories(x):\n",
    "    x = str(x) #other wise the exception argument of type 'float' is not iterable\n",
    "    if (Bio[0] in x or Bio[1] in x):\n",
    "        return \"Biology\"\n",
    "    elif (Chem[0] in x or Chem[1] in x):\n",
    "        return \"Chemistry\"\n",
    "    elif(Genetics[0] in x):\n",
    "        return \"Genetics\"\n",
    "    elif (Med[0] in x):\n",
    "        return \"Medicine\"\n",
    "    elif (Neuro[0] in x or Neuro[1] in x):\n",
    "        return \"Neurology\"\n",
    "    elif (Health[0] in x):\n",
    "        return \"Health\"\n",
    "    elif (Human[0] in x):\n",
    "        return \"Human\"\n",
    "    elif(Clinical[0] in x):\n",
    "        return \"Clinical\"\n",
    "    elif(Disease[0] in x):\n",
    "        return \"Disease\"\n",
    "    elif(Brain[0] in x):\n",
    "        return \"Brain\"\n",
    "    elif(Tropical[0] in x):\n",
    "        return \"Tropical\"\n",
    "    elif (Immun[0] in x):\n",
    "        return \"Immunology\"\n",
    "    elif(Micro[0] in x):\n",
    "        return \"Microbiology\"\n",
    "    elif(Viro[0] in x):\n",
    "        return \"Virology\"\n",
    "    elif(Endocrinology[0] in x):\n",
    "        return \"Endocrinology\"\n",
    "    elif(Epidemiology[0] in x):\n",
    "        return \"Epidemiology\"\n",
    "    else:\n",
    "        return \"Other\"\n",
    "        \n",
    "df2['Cat']=df2['Journal title'].apply(check_categories) \n",
    "dfn.head()        \n",
    "\n",
    "CC = df2[['Cat','CostinD']]\n",
    "Overview=df2.groupby('Cat').agg(['mean', 'median','std','count'])\n",
    "Overview.head()\n"
   ]
  }
 ],
 "metadata": {
  "anaconda-cloud": {},
  "kernelspec": {
   "display_name": "Python 3",
   "language": "python",
   "name": "python3"
  },
  "language_info": {
   "codemirror_mode": {
    "name": "ipython",
    "version": 3
   },
   "file_extension": ".py",
   "mimetype": "text/x-python",
   "name": "python",
   "nbconvert_exporter": "python",
   "pygments_lexer": "ipython3",
   "version": "3.5.2"
  }
 },
 "nbformat": 4,
 "nbformat_minor": 1
}
