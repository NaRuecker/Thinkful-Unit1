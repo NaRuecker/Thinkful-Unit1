{
 "cells": [
  {
   "cell_type": "markdown",
   "metadata": {},
   "source": [
    "# Quick Research proposal\n",
    "Look back to the potential experiments in the previous assignment. For one of those experiments, write up the essential points of a research proposal for an improved version of that experiment.\n",
    "________________________________________________________________________________________________________________________________\n",
    "\n",
    "## The problem\n",
    "The Dark side has an image problem. Fewer and fewer people are joining the Dark side, this means loss of forth and includes the potential of total power loss against the Jedi.\n",
    "\n",
    "## The potential solution\n",
    "The upper managment of the Dark side, the Sith Lords, debates in different new PR actions. The old slogan \"Give In to Your Anger\" seems to become less efficient. Therefore the Sith Lords plan to test the effectiveness of a new slogans during the recruitment of captured droids:\"Together We Can Rule the Galaxy.\" \n",
    "So the hypothesis is , that the new slogan will recruit more droids to the dark side.\n",
    "\n",
    "## The method of testing the solution\n",
    "Devide the captured droids into two equally sized groups. Present the Dark Side to one group using the old slogan and to the second group using the new slogan. The variable of interest is, conversion to the Dark Side.\n",
    "\n",
    "The number of successfully recruited droits from each group will be compared.\n",
    "\n",
    "If at least 10% more droids are recruited using the new slogan, the new slogan can be rolled out in the whole galaxy. If not the old slogan will be used and new strategies have to implemented as well.  "
   ]
  },
  {
   "cell_type": "code",
   "execution_count": null,
   "metadata": {
    "collapsed": true
   },
   "outputs": [],
   "source": []
  }
 ],
 "metadata": {
  "anaconda-cloud": {},
  "kernelspec": {
   "display_name": "Python 3",
   "language": "python",
   "name": "python3"
  },
  "language_info": {
   "codemirror_mode": {
    "name": "ipython",
    "version": 3
   },
   "file_extension": ".py",
   "mimetype": "text/x-python",
   "name": "python",
   "nbconvert_exporter": "python",
   "pygments_lexer": "ipython3",
   "version": "3.5.2"
  }
 },
 "nbformat": 4,
 "nbformat_minor": 1
}
